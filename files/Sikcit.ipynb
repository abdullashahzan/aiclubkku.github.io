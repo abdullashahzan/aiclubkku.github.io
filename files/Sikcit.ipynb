{
  "nbformat": 4,
  "nbformat_minor": 0,
  "metadata": {
    "colab": {
      "provenance": []
    },
    "kernelspec": {
      "name": "python3",
      "display_name": "Python 3"
    },
    "language_info": {
      "name": "python"
    }
  },
  "cells": [
    {
      "cell_type": "markdown",
      "source": [
        "#**Installing Sickit-learn library**#"
      ],
      "metadata": {
        "id": "0ORt3MJu9M7Q"
      }
    },
    {
      "cell_type": "code",
      "execution_count": null,
      "metadata": {
        "id": "5R-wgUpY8BZf"
      },
      "outputs": [],
      "source": [
        "!pip install sklearn"
      ]
    },
    {
      "cell_type": "code",
      "source": [
        "import sklearn\n",
        "sklearn.__version__\n",
        "\n",
        "import numpy as np\n",
        "import matplotlib.pyplot as plt"
      ],
      "metadata": {
        "id": "Kay6LbPh9BlL"
      },
      "execution_count": null,
      "outputs": []
    },
    {
      "cell_type": "markdown",
      "source": [
        "#**Simple Linear Regression**#"
      ],
      "metadata": {
        "id": "zv4aDq6d90lt"
      }
    },
    {
      "cell_type": "markdown",
      "source": [
        "# **Training data**"
      ],
      "metadata": {
        "id": "CyWrFtYiXZCO"
      }
    },
    {
      "cell_type": "code",
      "source": [
        "# X represents the features of our training data, the diameters of the pizzas. (Note: Uppercase letters indicate matrix and lowercase indicate vectors in sickit-learn convention)\n",
        "X = np.array([\n",
        "    [6],\n",
        "    [8],\n",
        "    [10],\n",
        "    [14],\n",
        "    [18]\n",
        "]).reshape(-1,1)\n",
        "# -1 means unkown rows (i.e. computer can decide) and 1 means we want only 1 column\n",
        "print(X)"
      ],
      "metadata": {
        "id": "eU-2QgYy-npl"
      },
      "execution_count": null,
      "outputs": []
    },
    {
      "cell_type": "code",
      "source": [
        "# y is a vector representing prize of the pizza \n",
        "y = [7, 9, 13, 17.5, 18]"
      ],
      "metadata": {
        "id": "nMkA4Q2dBCIP"
      },
      "execution_count": null,
      "outputs": []
    },
    {
      "cell_type": "markdown",
      "source": [
        "# **Plotting a graph for given data**"
      ],
      "metadata": {
        "id": "lvGUAh61CVm_"
      }
    },
    {
      "cell_type": "code",
      "source": [
        "plt.figure()\n",
        "plt.plot(X,y, \".\")\n",
        "plt.axis([0,25,0,25])\n",
        "plt.grid(True)\n",
        "plt.show()"
      ],
      "metadata": {
        "id": "MBrnqBkABWpw"
      },
      "execution_count": null,
      "outputs": []
    },
    {
      "cell_type": "markdown",
      "source": [
        "# **Importing model and fitting data**"
      ],
      "metadata": {
        "id": "_OUxfZXwEN64"
      }
    },
    {
      "cell_type": "code",
      "source": [
        "from sklearn.linear_model import LinearRegression\n",
        "\n",
        "# Creating an instance (An instance is an object that belongs to a particular class and in this case the object is LinearRegression() from the class LinearRegression)\n",
        "model = LinearRegression()\n"
      ],
      "metadata": {
        "id": "6oJSyr8JCdbQ"
      },
      "execution_count": null,
      "outputs": []
    },
    {
      "cell_type": "code",
      "source": [
        "# Fitting the data into the model\n",
        "\n",
        "model.fit(X,y)"
      ],
      "metadata": {
        "id": "j7cFm-rxDjox"
      },
      "execution_count": null,
      "outputs": []
    },
    {
      "cell_type": "markdown",
      "source": [
        "# **Predicting the price of a pizza with a diameter that has never been seen before**"
      ],
      "metadata": {
        "id": "fYLI-ODvD-5Z"
      }
    },
    {
      "cell_type": "code",
      "source": [
        "# tp stands for test pizza\n",
        "\n",
        "tp = np.array([\n",
        "    [12]\n",
        "]).reshape(-1,1)\n",
        "\n",
        "# Predicting price through the model that we created.\n",
        "price = model.predict(tp)\n",
        "\n",
        "# .2f stands for 2 decimal places only\n",
        "print(\"$%.2f\" % price)"
      ],
      "metadata": {
        "id": "mKAT_5EBEG_4"
      },
      "execution_count": null,
      "outputs": []
    },
    {
      "cell_type": "markdown",
      "source": [
        "# **Evaluating our model**"
      ],
      "metadata": {
        "id": "QPcX5xyAG7Ph"
      }
    },
    {
      "cell_type": "code",
      "source": [
        "\"\"\"\n",
        "To Evaluate our model we need to have a data which is correct and without any errors. Then, we will compare the data that computer generates with the correct data to check how much the error in our model is.\n",
        "\"\"\"\n",
        "\n",
        "# X0 stands for accurate matrix which contains the diameter of our pizza and y0 stands for accurate vector which contain the price of the pizza\n",
        "X0 = np.array([\n",
        "    [6],\n",
        "    [8],\n",
        "    [10],\n",
        "    [14],\n",
        "    [18]\n",
        "]).reshape(-1,1)\n",
        "\n",
        "y0 = [12, 16, 20, 28, 36]\n",
        "\n",
        "\n",
        "# X1 stands for training matrix and y1 stands for training vector\n",
        "\n",
        "X1 = np.array([\n",
        "    [16],\n",
        "    [18],\n",
        "    [20],\n",
        "    [24],\n",
        "    [25]\n",
        "]).reshape(-1,1)\n",
        "\n",
        "y1 = [33, 38, 44, 47, 51]\n",
        "\n",
        "\n",
        "\"\"\"\n",
        "Now we fit our data that is not accurate in the model and on the other hand we use the accurate data to test how good our model is\n",
        "\"\"\"\n",
        "\n",
        "model.fit(X1, y1)\n",
        "\n",
        "# score stands for how good our model predicted the result in other terms how good is the accuracy of our model\n",
        "\n",
        "score = model.score(X0, y0)\n",
        "\n",
        "print(\"%.2f\" %score)\n"
      ],
      "metadata": {
        "id": "YRfzyyOyHCg5"
      },
      "execution_count": null,
      "outputs": []
    },
    {
      "cell_type": "markdown",
      "source": [
        "# **End of linear regression algorithm**"
      ],
      "metadata": {
        "id": "M6ZbafyzQW8p"
      }
    },
    {
      "cell_type": "markdown",
      "source": [
        "# **K Nearest Neighbour**"
      ],
      "metadata": {
        "id": "hwviTeQwQldb"
      }
    },
    {
      "cell_type": "markdown",
      "source": [
        "# **Training data**"
      ],
      "metadata": {
        "id": "3j-NhbQdXRSf"
      }
    },
    {
      "cell_type": "code",
      "source": [
        "X_train = np.array([\n",
        "    [158, 64],\n",
        "    [170, 86],\n",
        "    [183,84],\n",
        "    [191, 80],\n",
        "    [155, 49],\n",
        "    [163, 59],\n",
        "    [180, 67],\n",
        "    [158, 54],\n",
        "    [178, 77]\n",
        "])\n",
        "\n",
        "y_train = ['male', 'male', 'male', 'male', 'female', 'female', 'female', 'female', 'female']"
      ],
      "metadata": {
        "id": "MOIEApdNQrLI"
      },
      "execution_count": null,
      "outputs": []
    },
    {
      "cell_type": "markdown",
      "source": [
        "# **Plotting data**"
      ],
      "metadata": {
        "id": "HOUz2JAfXe4v"
      }
    },
    {
      "cell_type": "code",
      "source": [
        "plt.figure()\n",
        "\n",
        "for i, x in enumerate(X_train):\n",
        "  #x[0] is our height and x[1] is our weight. We have taken them as our X and Y values for the graph\n",
        "  plt.scatter(x[0], x[1], c='k', marker='x' if y_train[i] == 'male' else 'D')\n",
        "\n",
        "plt.show()"
      ],
      "metadata": {
        "id": "_-YlopRxSGWF"
      },
      "execution_count": null,
      "outputs": []
    },
    {
      "cell_type": "markdown",
      "source": [
        "# **Importing modules**"
      ],
      "metadata": {
        "id": "w338vbp6Xicv"
      }
    },
    {
      "cell_type": "code",
      "source": [
        "from sklearn.preprocessing import LabelBinarizer\n",
        "from sklearn.neighbors import KNeighborsClassifier"
      ],
      "metadata": {
        "id": "iCmsY3q-TTdl"
      },
      "execution_count": null,
      "outputs": []
    },
    {
      "cell_type": "markdown",
      "source": [
        "# **Initialization**"
      ],
      "metadata": {
        "id": "5Kbf1WdtXoQv"
      }
    },
    {
      "cell_type": "code",
      "source": [
        "#When the data is only in 2 parts for eg in this case male and female, we can use built in preprocessing function from sklearn library called label binarizer. It converts one value to 0 and the other value to 1.\n",
        "#We use this function because it can make our data from string to number and at any time back to string which will be usefull for us to convert output data (which will also be in numbers) \n",
        "#from our model back to human readable string.\n",
        "lb = LabelBinarizer()\n",
        "#we do .reshape(-1) and not .reshape(-1, 1) because our vector y only has one row and we convert that row to column\n",
        "y_train_binarized = lb.fit_transform(y_train).reshape(-1)\n",
        "#K is a variable which defines the number of neighbours we will check our data with\n",
        "K = 3"
      ],
      "metadata": {
        "id": "GtFxIPAjTjQ2"
      },
      "execution_count": null,
      "outputs": []
    },
    {
      "cell_type": "markdown",
      "source": [
        "# **Fitting data and training model**"
      ],
      "metadata": {
        "id": "mtBD7vtUXsWf"
      }
    },
    {
      "cell_type": "code",
      "source": [
        "model = KNeighborsClassifier(n_neighbors=K)"
      ],
      "metadata": {
        "id": "OVb-W75aTtW9"
      },
      "execution_count": null,
      "outputs": []
    },
    {
      "cell_type": "code",
      "source": [
        "model.fit(X_train, y_train_binarized)"
      ],
      "metadata": {
        "colab": {
          "base_uri": "https://localhost:8080/"
        },
        "id": "tq9RzqnRT8RV",
        "outputId": "1efd4614-fa95-43e4-e8e4-15161437f7bd"
      },
      "execution_count": null,
      "outputs": [
        {
          "output_type": "execute_result",
          "data": {
            "text/plain": [
              "KNeighborsClassifier(n_neighbors=3)"
            ]
          },
          "metadata": {},
          "execution_count": 53
        }
      ]
    },
    {
      "cell_type": "markdown",
      "source": [
        "# **Predicting output**"
      ],
      "metadata": {
        "id": "yVD4m58VXy5Y"
      }
    },
    {
      "cell_type": "code",
      "source": [
        "prediction_binarized = model.predict(np.array([154,70]).reshape(1, -1))\n",
        "#the label binarizer function is useful here because it converts our 0's and 1's back to male, female\n",
        "predicted_label = lb.inverse_transform(prediction_binarized)\n",
        "print(predicted_label)"
      ],
      "metadata": {
        "colab": {
          "base_uri": "https://localhost:8080/"
        },
        "id": "3qLm61wCUTvc",
        "outputId": "ca72dc01-47f9-42d4-f38c-21f47272289c"
      },
      "execution_count": null,
      "outputs": [
        {
          "output_type": "stream",
          "name": "stdout",
          "text": [
            "['female']\n"
          ]
        }
      ]
    },
    {
      "cell_type": "markdown",
      "source": [
        "# **Testing and evaluating our model**"
      ],
      "metadata": {
        "id": "ffmMJaHOX32h"
      }
    },
    {
      "cell_type": "code",
      "source": [
        "X_test = np.array([\n",
        "    [168, 65],\n",
        "    [180, 96],\n",
        "    [160, 52],\n",
        "    [169, 67]\n",
        "])\n",
        "\n",
        "y_test = ['male', 'male', 'female', 'female']"
      ],
      "metadata": {
        "id": "GNbrUQeZU_DE"
      },
      "execution_count": null,
      "outputs": []
    },
    {
      "cell_type": "code",
      "source": [
        "y_test_binarized = lb.fit_transform(y_test).reshape(-1)"
      ],
      "metadata": {
        "id": "itMkLRsuVXz3"
      },
      "execution_count": null,
      "outputs": []
    },
    {
      "cell_type": "code",
      "source": [
        "predictions_binarized = model.predict(X_test)"
      ],
      "metadata": {
        "id": "BxgTmHBzV8EI"
      },
      "execution_count": null,
      "outputs": []
    },
    {
      "cell_type": "code",
      "source": [
        "from sklearn.metrics import accuracy_score\n",
        "score = accuracy_score(y_test_binarized, predictions_binarized)\n",
        "print(score)"
      ],
      "metadata": {
        "colab": {
          "base_uri": "https://localhost:8080/"
        },
        "id": "k9HTMg_oWP0u",
        "outputId": "21539ac6-fa63-4903-ad57-f3a44ed1972d"
      },
      "execution_count": null,
      "outputs": [
        {
          "output_type": "stream",
          "name": "stdout",
          "text": [
            "0.75\n"
          ]
        }
      ]
    },
    {
      "cell_type": "markdown",
      "source": [
        "# **End of KNN algorithm**"
      ],
      "metadata": {
        "id": "5PL5I7JUbkId"
      }
    },
    {
      "cell_type": "markdown",
      "source": [
        "# **Support Vector Machine (SVM)**"
      ],
      "metadata": {
        "id": "Hy306qsabXmn"
      }
    },
    {
      "cell_type": "markdown",
      "source": [
        "# **Training Data**"
      ],
      "metadata": {
        "id": "h_hXD23jbdJf"
      }
    },
    {
      "cell_type": "code",
      "source": [
        "a = [1, 5, 1.5, 8, 1, 9]\n",
        "b = [2, 8, 1.8, 8, 0.6, 11]"
      ],
      "metadata": {
        "id": "LkTNYmi0gSiw"
      },
      "execution_count": null,
      "outputs": []
    },
    {
      "cell_type": "code",
      "source": [
        "plt.figure()\n",
        "plt.scatter(a, b)\n",
        "plt.show()"
      ],
      "metadata": {
        "colab": {
          "base_uri": "https://localhost:8080/",
          "height": 265
        },
        "id": "TVk1w_T0brKe",
        "outputId": "151b8059-4376-4669-af89-5b01bfe72fb7"
      },
      "execution_count": null,
      "outputs": [
        {
          "output_type": "display_data",
          "data": {
            "text/plain": [
              "<Figure size 432x288 with 1 Axes>"
            ],
            "image/png": "[encoded data removed]"
          },
          "metadata": {
            "needs_background": "light"
          }
        }
      ]
    },
    {
      "cell_type": "code",
      "source": [
        "X = np.array([\n",
        "    [1,2],\n",
        "    [5,8],\n",
        "    [1.5,1.8],\n",
        "    [8,8],\n",
        "    [1,0.6],\n",
        "    [9,11]\n",
        "])\n",
        "y = [0,1,0,1,0,1]"
      ],
      "metadata": {
        "id": "GUDuwNnqbcAI"
      },
      "execution_count": null,
      "outputs": []
    },
    {
      "cell_type": "code",
      "source": [
        "from sklearn import svm"
      ],
      "metadata": {
        "id": "UttBkOpAdrqU"
      },
      "execution_count": null,
      "outputs": []
    },
    {
      "cell_type": "code",
      "source": [
        "#SVC is support vector classifiers\n",
        "#C is nothing but how perfectly you want to classify data. Default value is 1.0\n",
        "#Kernel is a method of using linear classifier to solve non linear problems\n",
        "model = svm.SVC(kernel='linear', C=1.0)"
      ],
      "metadata": {
        "id": "RjeNinC-dv6J"
      },
      "execution_count": null,
      "outputs": []
    },
    {
      "cell_type": "code",
      "source": [
        "model.fit(X, y)"
      ],
      "metadata": {
        "colab": {
          "base_uri": "https://localhost:8080/"
        },
        "id": "LwfEmPVNfp7m",
        "outputId": "8a1c5bf0-0ba9-4192-c765-e7bf3fbdc055"
      },
      "execution_count": null,
      "outputs": [
        {
          "output_type": "execute_result",
          "data": {
            "text/plain": [
              "SVC(kernel='linear')"
            ]
          },
          "metadata": {},
          "execution_count": 89
        }
      ]
    },
    {
      "cell_type": "code",
      "source": [
        "prediction = model.predict([[0.58,0.76]])\n",
        "print(prediction)"
      ],
      "metadata": {
        "colab": {
          "base_uri": "https://localhost:8080/"
        },
        "id": "prVtZ-1DgxIS",
        "outputId": "7612bd3a-7694-4a5a-dfee-fcb61dca1f08"
      },
      "execution_count": null,
      "outputs": [
        {
          "output_type": "stream",
          "name": "stdout",
          "text": [
            "[0]\n"
          ]
        }
      ]
    }
  ]
}